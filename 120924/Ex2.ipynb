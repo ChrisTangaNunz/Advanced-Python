{
 "cells": [
  {
   "cell_type": "code",
   "execution_count": 3,
   "metadata": {},
   "outputs": [],
   "source": [
    "import numpy as np\n",
    "import pandas as pd"
   ]
  },
  {
   "cell_type": "code",
   "execution_count": 6,
   "metadata": {},
   "outputs": [],
   "source": [
    "df1 = pd.read_csv('/home/chris/PythonAdvanced/120924/output_0.csv')\n",
    "df2 = pd.read_csv('/home/chris/PythonAdvanced/120924/evolved_0.csv')\n"
   ]
  },
  {
   "cell_type": "code",
   "execution_count": 12,
   "metadata": {},
   "outputs": [],
   "source": [
    "merged_df = pd.merge(df1, df2, how = 'inner', on='ID') "
   ]
  },
  {
   "cell_type": "code",
   "execution_count": 14,
   "metadata": {},
   "outputs": [],
   "source": [
    "filtered_df = merged_df[(merged_df['RemnantType_0'] == 6) & (merged_df['RemnantType_1'] == 6) & (~merged_df['Semimajor'].isna())]\n"
   ]
  },
  {
   "cell_type": "code",
   "execution_count": 15,
   "metadata": {},
   "outputs": [
    {
     "name": "stdout",
     "output_type": "stream",
     "text": [
      "Length of filtered DataFrame: 215\n",
      "Length of merged DataFrame: 1783876\n"
     ]
    }
   ],
   "source": [
    "# Part D: Print the length of the new DataFrame and compare it to the merged DataFrame\n",
    "print(f\"Length of filtered DataFrame: {len(filtered_df)}\")\n",
    "print(f\"Length of merged DataFrame: {len(merged_df)}\")"
   ]
  }
 ],
 "metadata": {
  "kernelspec": {
   "display_name": "Python 3 (ipykernel)",
   "language": "python",
   "name": "python3"
  },
  "language_info": {
   "codemirror_mode": {
    "name": "ipython",
    "version": 3
   },
   "file_extension": ".py",
   "mimetype": "text/x-python",
   "name": "python",
   "nbconvert_exporter": "python",
   "pygments_lexer": "ipython3",
   "version": "3.10.6"
  }
 },
 "nbformat": 4,
 "nbformat_minor": 2
}
