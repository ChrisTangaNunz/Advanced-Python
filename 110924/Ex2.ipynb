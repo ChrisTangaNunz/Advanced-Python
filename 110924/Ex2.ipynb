{
 "cells": [
  {
   "cell_type": "code",
   "execution_count": 10,
   "metadata": {},
   "outputs": [],
   "source": [
    "import numpy as np\n"
   ]
  },
  {
   "cell_type": "code",
   "execution_count": 4,
   "metadata": {},
   "outputs": [],
   "source": [
    "kB_T = 100  \n",
    "beta = 1 / kB_T\n",
    "max_n = 10**6\n",
    "def compute_partition_function(max_n, beta):\n",
    "    Z = 0\n",
    "    for n in range(max_n):\n",
    "        E_n = n + 0.5\n",
    "        Z += np.exp(-beta * E_n)\n",
    "    return Z\n",
    "\n",
    "def compute_average_energy(max_n, beta, Z):\n",
    "    E_avg = 0\n",
    "    for n in range(max_n):\n",
    "        E_n = n + 0.5  \n",
    "        E_avg += E_n * np.exp(-beta * E_n)\n",
    "    E_avg /= Z  \n",
    "    return E_avg\n"
   ]
  },
  {
   "cell_type": "code",
   "execution_count": 11,
   "metadata": {},
   "outputs": [
    {
     "name": "stdout",
     "output_type": "stream",
     "text": [
      "Average energy <E>: 100.00083333194436\n"
     ]
    }
   ],
   "source": [
    "# Main calculations\n",
    "Z = compute_partition_function(max_n, beta)\n",
    "E_avg = compute_average_energy(max_n, beta, Z)\n",
    "\n",
    "print(f\"Average energy <E>: {E_avg}\")\n"
   ]
  }
 ],
 "metadata": {
  "kernelspec": {
   "display_name": "Python 3 (ipykernel)",
   "language": "python",
   "name": "python3"
  },
  "language_info": {
   "codemirror_mode": {
    "name": "ipython",
    "version": 3
   },
   "file_extension": ".py",
   "mimetype": "text/x-python",
   "name": "python",
   "nbconvert_exporter": "python",
   "pygments_lexer": "ipython3",
   "version": "3.10.6"
  }
 },
 "nbformat": 4,
 "nbformat_minor": 2
}
