{
 "cells": [
  {
   "cell_type": "code",
   "execution_count": 15,
   "metadata": {},
   "outputs": [],
   "source": [
    "import numpy as np"
   ]
  },
  {
   "cell_type": "code",
   "execution_count": 16,
   "metadata": {},
   "outputs": [],
   "source": [
    "discriminant = b**2 - 4 * a * c\n",
    "def quad_eq1(a, b, c):\n",
    "    x1 = (-b + np.sqrt(discriminant)) /  (2 * a)\n",
    "    x2 = (-b - np.sqrt(discriminant)) /  (2 * a)\n",
    "    x = print(x1, x2)\n",
    "    return x\n",
    "\n",
    "def quad_eq2(a, b, c):\n",
    "    x3 = 2 * c / ( -b - np.sqrt( discriminant) )\n",
    "    x4 = 2 * c / ( -b + np.sqrt( discriminant) )\n",
    "    x = print(x3, x4)\n",
    "    return x\n",
    "\n",
    "def accurate_quadratic_solver(a, b, c):\n",
    "    if discriminant < 0:\n",
    "        return \"No real solutions\"  # Return if the discriminant is negative (no real solutions)\n",
    "    \n",
    "    sqrt_discriminant = np.sqrt(discriminant)\n",
    "\n",
    "    # Use standard formula for one solution\n",
    "    x1_standard = (-b + sqrt_discriminant) / (2*a)\n",
    "    \n",
    "    # Use alternative formula for the other solution (to avoid precision loss)\n",
    "    if b > 0:\n",
    "        x2_alternative = (2 * c) / (-b - sqrt_discriminant)\n",
    "    else:\n",
    "        x2_alternative = (2 * c) / (-b + sqrt_discriminant)\n",
    "    \n",
    "    # Now swap to ensure both solutions are found using the most stable method\n",
    "    if b > 0:\n",
    "        x1_alternative = (2 * c) / (-b + sqrt_discriminant)\n",
    "        x2_standard = (-b - sqrt_discriminant) / (2*a)\n",
    "    else:\n",
    "        x1_alternative = (2 * c) / (-b - sqrt_discriminant)\n",
    "        x2_standard = (-b + sqrt_discriminant) / (2*a)\n",
    "    \n",
    "    return x1_standard, x2_alternative\n"
   ]
  },
  {
   "cell_type": "code",
   "execution_count": 17,
   "metadata": {},
   "outputs": [
    {
     "name": "stdout",
     "output_type": "stream",
     "text": [
      "-9.999894245993346e-07 -999999.999999\n",
      "-1.000000000001e-06 -1000010.5755125057\n"
     ]
    },
    {
     "data": {
      "text/plain": [
       "(-9.999894245993346e-07, -1.000000000001e-06)"
      ]
     },
     "execution_count": 17,
     "metadata": {},
     "output_type": "execute_result"
    }
   ],
   "source": [
    "a = 0.001\n",
    "b = 1000\n",
    "c = 0.001\n",
    "quad_eq1(a,b,c)\n",
    "quad_eq2(a,b,c)\n",
    "accurate_quadratic_solver(a,b,c)"
   ]
  }
 ],
 "metadata": {
  "kernelspec": {
   "display_name": "Python 3 (ipykernel)",
   "language": "python",
   "name": "python3"
  },
  "language_info": {
   "codemirror_mode": {
    "name": "ipython",
    "version": 3
   },
   "file_extension": ".py",
   "mimetype": "text/x-python",
   "name": "python",
   "nbconvert_exporter": "python",
   "pygments_lexer": "ipython3",
   "version": "3.10.6"
  }
 },
 "nbformat": 4,
 "nbformat_minor": 2
}
